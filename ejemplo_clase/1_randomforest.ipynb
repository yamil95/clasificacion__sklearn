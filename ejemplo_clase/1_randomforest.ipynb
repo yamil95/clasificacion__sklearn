{
 "cells": [
  {
   "cell_type": "markdown",
   "metadata": {
    "id": "67RBrvkUviuj"
   },
   "source": [
    "<a href=\"https://www.inove.com.ar\"><img src=\"https://raw.githubusercontent.com/InoveAlumnos/dataset_analytics_python/master/images/PA%20Banner.png\" width=\"1000\" align=\"center\"></a>\n",
    "\n",
    "\n",
    "# Ejercicio de clasificación con Random Forest\n",
    "\n",
    "Ejemplo de clasificación utilizando random forest para la clasificación de drogadas que debería tomar un pasiente según su historial clínico<br>\n",
    "\n",
    "v1.1"
   ]
  },
  {
   "cell_type": "code",
   "execution_count": null,
   "metadata": {
    "id": "y2sSeyEovSw-"
   },
   "outputs": [],
   "source": [
    "import os\n",
    "import platform\n",
    "\n",
    "import numpy as np\n",
    "import matplotlib.pyplot as plt\n",
    "import seaborn as sns\n",
    "import pandas as pd"
   ]
  },
  {
   "cell_type": "markdown",
   "metadata": {
    "id": "7Szo7P_3v00C"
   },
   "source": [
    "# Recolectar datos\n",
    "<img src=\"https://raw.githubusercontent.com/InoveAlumnos/dataset_analytics_python/master/images/Pipeline1.png\" width=\"1000\" align=\"middle\">"
   ]
  },
  {
   "cell_type": "code",
   "execution_count": null,
   "metadata": {
    "colab": {
     "base_uri": "https://localhost:8080/"
    },
    "executionInfo": {
     "elapsed": 1248,
     "status": "ok",
     "timestamp": 1604250646426,
     "user": {
      "displayName": "inove",
      "photoUrl": "https://lh3.googleusercontent.com/a-/AOh14GhXN9lpkKFLA5gp8tW9cD3CZ1yGa9DUy9HZOgZm=s64",
      "userId": "03494171924251581304"
     },
     "user_tz": 180
    },
    "id": "HnVpNGuAvyFi",
    "outputId": "c3e5f28b-5c5c-4bfa-fa2c-aa82a5d0ecfe"
   },
   "outputs": [],
   "source": [
    "if os.access('drug200.csv', os.F_OK) is False:\n",
    "    if platform.system() == 'Windows':\n",
    "        !curl https://raw.githubusercontent.com/InoveAlumnos/dataset_analytics_python/master/drug200.csv > drug200.csv\n",
    "    else:\n",
    "        !wget drug200.csv https://raw.githubusercontent.com/InoveAlumnos/dataset_analytics_python/master/drug200.csv"
   ]
  },
  {
   "cell_type": "markdown",
   "metadata": {
    "id": "BbNSgxdfw0ix"
   },
   "source": [
    "### `drug200.csv`:\n",
    "El dataset **`drug200.csv`** contiene diferentes tipos de drogas que se le dan a pacientes relativo a su historial clínico. El objetivo es dado un nuevo paciente clasificarlo y determinar que droga es la más apropiada para el.<br> [Dataset source](https://www.kaggle.com/jeevanrh/drug200csv)\n",
    "\n",
    "- **Age** --> edad, ejemplo 25\n",
    "- **Sex** --> género, ejemplo F(femenino), M(masculino)\n",
    "- **BP (Blood Pressure)** --> presión arterial, ejemplo HIGH(alta)\n",
    "- **Cholesterol** --> colesterol, ejemplo normal (NORMAL)\n",
    "- **Na / k** --> concentración de sodio/potasio en sangre, ejemplo 7.8\n",
    "- **Drug** --> droga suministrada, ejemplo drugC"
   ]
  },
  {
   "cell_type": "markdown",
   "metadata": {
    "id": "NHHsGe1Qypde"
   },
   "source": [
    "# Procesar datos\n",
    "<img src=\"https://raw.githubusercontent.com/InoveAlumnos/dataset_analytics_python/master/images/Pipeline2.png\" width=\"1000\" align=\"middle\">"
   ]
  },
  {
   "cell_type": "code",
   "execution_count": null,
   "metadata": {
    "colab": {
     "base_uri": "https://localhost:8080/",
     "height": 348
    },
    "executionInfo": {
     "elapsed": 790,
     "status": "ok",
     "timestamp": 1604250692884,
     "user": {
      "displayName": "inove",
      "photoUrl": "https://lh3.googleusercontent.com/a-/AOh14GhXN9lpkKFLA5gp8tW9cD3CZ1yGa9DUy9HZOgZm=s64",
      "userId": "03494171924251581304"
     },
     "user_tz": 180
    },
    "id": "uvzaKBMbyoiy",
    "outputId": "b2698bbc-a78a-44b3-c421-41a9a2ff7697"
   },
   "outputs": [],
   "source": [
    "df = pd.read_csv(\"drug200.csv\")\n",
    "des = df.describe()\n",
    "des.loc['Nan'] = df.isna().sum()\n",
    "des.loc['%Nan'] = (df.isna().mean())*100\n",
    "des"
   ]
  },
  {
   "cell_type": "code",
   "execution_count": null,
   "metadata": {
    "colab": {
     "base_uri": "https://localhost:8080/",
     "height": 198
    },
    "executionInfo": {
     "elapsed": 962,
     "status": "ok",
     "timestamp": 1604250734189,
     "user": {
      "displayName": "inove",
      "photoUrl": "https://lh3.googleusercontent.com/a-/AOh14GhXN9lpkKFLA5gp8tW9cD3CZ1yGa9DUy9HZOgZm=s64",
      "userId": "03494171924251581304"
     },
     "user_tz": 180
    },
    "id": "Cw9HbE88y3wu",
    "outputId": "21d9d776-6d13-4316-cb67-50c289766a80"
   },
   "outputs": [],
   "source": [
    "df.head()"
   ]
  },
  {
   "cell_type": "code",
   "execution_count": null,
   "metadata": {
    "colab": {
     "base_uri": "https://localhost:8080/"
    },
    "executionInfo": {
     "elapsed": 778,
     "status": "ok",
     "timestamp": 1604250756026,
     "user": {
      "displayName": "inove",
      "photoUrl": "https://lh3.googleusercontent.com/a-/AOh14GhXN9lpkKFLA5gp8tW9cD3CZ1yGa9DUy9HZOgZm=s64",
      "userId": "03494171924251581304"
     },
     "user_tz": 180
    },
    "id": "LirgXKpiy8dr",
    "outputId": "a9e40c50-ae2f-453c-a55a-e9c6f0ad3cb0"
   },
   "outputs": [],
   "source": [
    "print('Cantidad de datos en observacion:', df.shape[0])"
   ]
  },
  {
   "cell_type": "markdown",
   "metadata": {
    "id": "0BnzYdlRzBxz"
   },
   "source": [
    "# Explorar datos\n",
    "<img src=\"https://raw.githubusercontent.com/InoveAlumnos/dataset_analytics_python/master/images/Pipeline3.png\" width=\"1000\" align=\"middle\">"
   ]
  },
  {
   "cell_type": "code",
   "execution_count": null,
   "metadata": {
    "colab": {
     "base_uri": "https://localhost:8080/"
    },
    "executionInfo": {
     "elapsed": 777,
     "status": "ok",
     "timestamp": 1604250831639,
     "user": {
      "displayName": "inove",
      "photoUrl": "https://lh3.googleusercontent.com/a-/AOh14GhXN9lpkKFLA5gp8tW9cD3CZ1yGa9DUy9HZOgZm=s64",
      "userId": "03494171924251581304"
     },
     "user_tz": 180
    },
    "id": "yH6oDykAzBMG",
    "outputId": "d73d8546-87d4-4c18-90f7-30c32552e7e7"
   },
   "outputs": [],
   "source": [
    "# Exploramos que tan balanceado está el dataset,\n",
    "# en cuantos casos se suministró cada droga\n",
    "df['Drug'].value_counts()"
   ]
  },
  {
   "cell_type": "code",
   "execution_count": null,
   "metadata": {
    "colab": {
     "base_uri": "https://localhost:8080/",
     "height": 279
    },
    "executionInfo": {
     "elapsed": 960,
     "status": "ok",
     "timestamp": 1604255237425,
     "user": {
      "displayName": "inove",
      "photoUrl": "https://lh3.googleusercontent.com/a-/AOh14GhXN9lpkKFLA5gp8tW9cD3CZ1yGa9DUy9HZOgZm=s64",
      "userId": "03494171924251581304"
     },
     "user_tz": 180
    },
    "id": "u5cQJRWdzTk3",
    "outputId": "9930ffaa-856b-4b5f-efd5-e00abc08afcd"
   },
   "outputs": [],
   "source": [
    "ax = sns.countplot(data=df, x=\"Drug\")"
   ]
  },
  {
   "cell_type": "markdown",
   "metadata": {
    "id": "YqVWUXPm0op-"
   },
   "source": [
    "Se puede observar que en la mayoría de los casos se suministra la drogaY oa la drogaX, es muy probable que el modelo siga esta tendencia"
   ]
  },
  {
   "cell_type": "markdown",
   "metadata": {
    "id": "ZdfLMthm0yyY"
   },
   "source": [
    "#### Transformar variables categóricas texto a clases numeradas"
   ]
  },
  {
   "cell_type": "code",
   "execution_count": null,
   "metadata": {
    "id": "GJlDmX_F1ksA"
   },
   "outputs": [],
   "source": [
    "from sklearn.preprocessing import LabelEncoder\n",
    "from sklearn.preprocessing import OneHotEncoder\n",
    "\n",
    "df_cod = df.copy()"
   ]
  },
  {
   "cell_type": "code",
   "execution_count": null,
   "metadata": {
    "colab": {
     "base_uri": "https://localhost:8080/",
     "height": 198
    },
    "executionInfo": {
     "elapsed": 839,
     "status": "ok",
     "timestamp": 1604255255021,
     "user": {
      "displayName": "inove",
      "photoUrl": "https://lh3.googleusercontent.com/a-/AOh14GhXN9lpkKFLA5gp8tW9cD3CZ1yGa9DUy9HZOgZm=s64",
      "userId": "03494171924251581304"
     },
     "user_tz": 180
    },
    "id": "Lqa4Qq9dEGzr",
    "outputId": "a54245ad-db54-4dbb-d49e-f748685aaec3"
   },
   "outputs": [],
   "source": [
    "df.head()"
   ]
  },
  {
   "cell_type": "code",
   "execution_count": null,
   "metadata": {
    "id": "n-Y-eHwV08v3"
   },
   "outputs": [],
   "source": [
    "def one_hot_encoding(df, column):\n",
    "    df_copy = df.copy()\n",
    "    # LabelEncoder\n",
    "    le = LabelEncoder()\n",
    "    label_encoding = le.fit_transform(df_copy[column])\n",
    "    # OneHotEncoder\n",
    "    onehot_encoder = OneHotEncoder(sparse=False)\n",
    "    one_hot_encoding = onehot_encoder.fit_transform(label_encoding.reshape(-1, 1))\n",
    "    # Crear las columnas con el resultado del encoder\n",
    "    one_hot_encoding_df = pd.DataFrame(one_hot_encoding, columns=le.classes_, dtype=int)\n",
    "    # Agregar sufijo\n",
    "    one_hot_encoding_df = one_hot_encoding_df.add_prefix(column+'_')\n",
    "    # Unir nuevas columnas al dataset\n",
    "    df_copy = df_copy.join(one_hot_encoding_df)\n",
    "    # Eleminar vieja columna del dataset\n",
    "    df_copy = df_copy.drop([column], axis=1)\n",
    "    return df_copy, label_encoding, one_hot_encoding\n"
   ]
  },
  {
   "cell_type": "code",
   "execution_count": null,
   "metadata": {
    "id": "-mXf8mxK2qps"
   },
   "outputs": [],
   "source": [
    "df_cod, le_sex, ohe_sex = one_hot_encoding(df_cod, 'Sex')\n",
    "df_cod, le_bp, ohe_bp = one_hot_encoding(df_cod, 'BP')\n",
    "df_cod, le_cholest, ohe_cholest = one_hot_encoding(df_cod, 'Cholesterol')"
   ]
  },
  {
   "cell_type": "code",
   "execution_count": null,
   "metadata": {
    "colab": {
     "base_uri": "https://localhost:8080/",
     "height": 198
    },
    "executionInfo": {
     "elapsed": 830,
     "status": "ok",
     "timestamp": 1604251868544,
     "user": {
      "displayName": "inove",
      "photoUrl": "https://lh3.googleusercontent.com/a-/AOh14GhXN9lpkKFLA5gp8tW9cD3CZ1yGa9DUy9HZOgZm=s64",
      "userId": "03494171924251581304"
     },
     "user_tz": 180
    },
    "id": "JcMF3cQq3NHC",
    "outputId": "69b16826-688d-4a32-e0d0-22461918391a"
   },
   "outputs": [],
   "source": [
    "df_cod.head()"
   ]
  },
  {
   "cell_type": "markdown",
   "metadata": {
    "id": "7z_SuZlj3gbQ"
   },
   "source": [
    "# Entrenar modelo\n",
    "<img src=\"https://raw.githubusercontent.com/InoveAlumnos/dataset_analytics_python/master/images/Pipeline4.png\" width=\"1000\" align=\"middle\">"
   ]
  },
  {
   "cell_type": "markdown",
   "metadata": {
    "id": "ntY84fHj3q5q"
   },
   "source": [
    "El primer paso es obtener los datos que serán la entrada del sistema (X) y los datos que serán la salida del modelo estimador (y)"
   ]
  },
  {
   "cell_type": "code",
   "execution_count": null,
   "metadata": {
    "id": "EIg2_OQ43fqZ"
   },
   "outputs": [],
   "source": [
    "X = df_cod.drop('Drug', axis=1).values\n",
    "y = df_cod['Drug'].values"
   ]
  },
  {
   "cell_type": "markdown",
   "metadata": {
    "id": "sbr-SnON4LuM"
   },
   "source": [
    "Siguiente paso es dividir el dataset en entrenamiento (train) y evaluación (test). Utilizaremos el criterio 70%30%"
   ]
  },
  {
   "cell_type": "code",
   "execution_count": null,
   "metadata": {
    "id": "BVD4YkjS4MW2"
   },
   "outputs": [],
   "source": [
    "from sklearn.model_selection import train_test_split\n",
    "# Fijamos un \"random_state\" constante para que siempre el dataset se parta de la misma forma\n",
    "# para poder repetir los ensayos\n",
    "X_train, X_test, y_train, y_test = train_test_split(X, y, test_size=0.3, random_state=42)"
   ]
  },
  {
   "cell_type": "code",
   "execution_count": null,
   "metadata": {
    "id": "FgF8oPBe7XMi"
   },
   "outputs": [],
   "source": [
    "# Creamos el modelo base\n",
    "class RandomBaseModel():\n",
    "    def __init__(self):\n",
    "        self.classes_ = [0, 1]\n",
    "    def fit(self,X, y):\n",
    "        self.classes_ = np.unique(y)\n",
    "        return None\n",
    "\n",
    "    def predict(self,X):\n",
    "        rand = np.random.randint(0, len(self.classes_), size=X.shape[0])\n",
    "        rand_clases = [self.classes_[x] for x in rand]\n",
    "        return np.asarray(rand_clases)"
   ]
  },
  {
   "cell_type": "code",
   "execution_count": null,
   "metadata": {
    "colab": {
     "base_uri": "https://localhost:8080/"
    },
    "executionInfo": {
     "elapsed": 723,
     "status": "ok",
     "timestamp": 1604253601477,
     "user": {
      "displayName": "inove",
      "photoUrl": "https://lh3.googleusercontent.com/a-/AOh14GhXN9lpkKFLA5gp8tW9cD3CZ1yGa9DUy9HZOgZm=s64",
      "userId": "03494171924251581304"
     },
     "user_tz": 180
    },
    "id": "aeYi3FSi7bGW",
    "outputId": "91bbdfab-04dc-467a-e490-fcb62a6eedc7"
   },
   "outputs": [],
   "source": [
    "# Obtener la salida según el modelo base\n",
    "random_model = RandomBaseModel()\n",
    "random_model.fit(X_train, y_train)\n",
    "y_hat_base = random_model.predict(X_test)\n",
    "random_model.classes_"
   ]
  },
  {
   "cell_type": "markdown",
   "metadata": {
    "id": "wBh2fSnT4SED"
   },
   "source": [
    "#### Crear un modelo de clasificación con random forest\n",
    "Parámetros\n",
    "- n_estimators --> Cantidad de árboles (por defecto 100)\n",
    "- max_depth --> Máxima profundiad del árbol, por defecto sin límite\n",
    "- min_samples_leaf --> Cantidad mínima de muestras en un nodo para considerarse leaft (defecto 1)\n",
    "- criterion --> Criterio para crear los nodos (entropy o gini)"
   ]
  },
  {
   "cell_type": "code",
   "execution_count": null,
   "metadata": {
    "id": "ZRw2jgPl4Xuc"
   },
   "outputs": [],
   "source": [
    "from sklearn.ensemble import RandomForestClassifier\n",
    "clf = RandomForestClassifier(n_estimators=4, max_depth=5, criterion='entropy', random_state = 0)\n",
    "clf.fit(X_train, y_train)\n",
    "y_hat = clf.predict(X_test)"
   ]
  },
  {
   "cell_type": "markdown",
   "metadata": {
    "id": "w3IfjUuI4XnD"
   },
   "source": [
    "# Validar modelo\n",
    "<img src=\"https://raw.githubusercontent.com/InoveAlumnos/dataset_analytics_python/master/images/Pipeline5.png\" width=\"1000\" align=\"middle\">"
   ]
  },
  {
   "cell_type": "code",
   "execution_count": null,
   "metadata": {
    "colab": {
     "base_uri": "https://localhost:8080/"
    },
    "executionInfo": {
     "elapsed": 845,
     "status": "ok",
     "timestamp": 1604253566100,
     "user": {
      "displayName": "inove",
      "photoUrl": "https://lh3.googleusercontent.com/a-/AOh14GhXN9lpkKFLA5gp8tW9cD3CZ1yGa9DUy9HZOgZm=s64",
      "userId": "03494171924251581304"
     },
     "user_tz": 180
    },
    "id": "tzBGdQS67eAq",
    "outputId": "464c00ed-b7d1-4544-d6f1-3b23cb7a96c4"
   },
   "outputs": [],
   "source": [
    "# Calcular la exactitud (accuracy)\n",
    "from sklearn.metrics import accuracy_score\n",
    "accuracy_score(y_test, y_hat_base, normalize=True)"
   ]
  },
  {
   "cell_type": "code",
   "execution_count": null,
   "metadata": {
    "colab": {
     "base_uri": "https://localhost:8080/"
    },
    "executionInfo": {
     "elapsed": 678,
     "status": "ok",
     "timestamp": 1604254634961,
     "user": {
      "displayName": "inove",
      "photoUrl": "https://lh3.googleusercontent.com/a-/AOh14GhXN9lpkKFLA5gp8tW9cD3CZ1yGa9DUy9HZOgZm=s64",
      "userId": "03494171924251581304"
     },
     "user_tz": 180
    },
    "id": "CMKONtv55zL8",
    "outputId": "9e479d9e-608b-452a-af0f-12ae39e6e573"
   },
   "outputs": [],
   "source": [
    "# Calcular la exactitud (accuracy)\n",
    "from sklearn.metrics import accuracy_score\n",
    "accuracy_score(y_test, y_hat, normalize=True)"
   ]
  },
  {
   "cell_type": "code",
   "execution_count": null,
   "metadata": {
    "colab": {
     "base_uri": "https://localhost:8080/",
     "height": 279
    },
    "executionInfo": {
     "elapsed": 812,
     "status": "ok",
     "timestamp": 1604254637881,
     "user": {
      "displayName": "inove",
      "photoUrl": "https://lh3.googleusercontent.com/a-/AOh14GhXN9lpkKFLA5gp8tW9cD3CZ1yGa9DUy9HZOgZm=s64",
      "userId": "03494171924251581304"
     },
     "user_tz": 180
    },
    "id": "TeLeYLYz6ZhO",
    "outputId": "107b8c48-bddb-45fd-ecf2-72a609ba2233"
   },
   "outputs": [],
   "source": [
    "from sklearn.metrics import confusion_matrix, ConfusionMatrixDisplay\n",
    "cm = confusion_matrix(y_test, y_hat)\n",
    "cmd = ConfusionMatrixDisplay(cm, display_labels=clf.classes_)\n",
    "cmd.plot(cmap=plt.cm.Blues)\n",
    "plt.show()"
   ]
  },
  {
   "cell_type": "markdown",
   "metadata": {
    "id": "9dZxGbjG96jR"
   },
   "source": [
    "# Utilizar modelo\n",
    "<img src=\"https://raw.githubusercontent.com/InoveAlumnos/dataset_analytics_python/master/images/Pipeline6.png\" width=\"1000\" align=\"middle\">"
   ]
  },
  {
   "cell_type": "code",
   "execution_count": null,
   "metadata": {
    "colab": {
     "base_uri": "https://localhost:8080/",
     "height": 877
    },
    "executionInfo": {
     "elapsed": 5118,
     "status": "ok",
     "timestamp": 1604254976547,
     "user": {
      "displayName": "inove",
      "photoUrl": "https://lh3.googleusercontent.com/a-/AOh14GhXN9lpkKFLA5gp8tW9cD3CZ1yGa9DUy9HZOgZm=s64",
      "userId": "03494171924251581304"
     },
     "user_tz": 180
    },
    "id": "NPZ74KDO95wR",
    "outputId": "ed978355-83a8-42fa-a9a9-70a44c47026f"
   },
   "outputs": [],
   "source": [
    "from sklearn import tree\n",
    "\n",
    "# Tomo el primer árbol de decisión del bosque para dibujar\n",
    "estimator = clf.estimators_[0]\n",
    "\n",
    "# Obtengo los nombres de las coulmnas utilizadas y las clases posibles\n",
    "feature_names = df_cod.drop('Drug', axis=1).columns\n",
    "class_names = df_cod['Drug'].unique().tolist()\n",
    "\n",
    "fig = plt.figure(figsize=(60,40))\n",
    "ax = fig.add_subplot()\n",
    "tree.plot_tree(estimator,\n",
    "               feature_names = feature_names, \n",
    "               class_names=class_names,\n",
    "               filled = True, ax=ax);\n",
    "plt.show()\n",
    "filename = 'drugtree.png'\n",
    "fig.savefig(filename)"
   ]
  },
  {
   "cell_type": "markdown",
   "metadata": {
    "id": "h7yzVZcZ9-4m"
   },
   "source": [
    "# Conclusión\n",
    "<img src=\"https://raw.githubusercontent.com/InoveAlumnos/dataset_analytics_python/master/images/Pipeline7.png\" width=\"1000\" align=\"middle\">"
   ]
  },
  {
   "cell_type": "markdown",
   "metadata": {
    "id": "sWAReOgo-B7b"
   },
   "source": [
    "En este ejemplo no fue muy dificil conseguir un buen resultado ya que no era un dataset complejo. La misma estrategía de trabajo puede aplicarse para otros datasets"
   ]
  },
  {
   "cell_type": "markdown",
   "metadata": {},
   "source": [
    "#### Exportar"
   ]
  },
  {
   "cell_type": "code",
   "execution_count": null,
   "metadata": {},
   "outputs": [],
   "source": [
    "import pickle\n",
    "# Salvar el modelo\n",
    "pickle.dump(clf, open('randomforest_model.pkl', 'wb'))\n",
    "# Salvar los codificadores\n",
    "pickle.dump(le_sex, open('le_sex.pkl', 'wb'))\n",
    "pickle.dump(ohe_sex, open('ohe_sex.pkl', 'wb'))\n",
    "pickle.dump(le_bp, open('le_bp.pkl', 'wb'))\n",
    "pickle.dump(ohe_bp, open('ohe_bp.pkl', 'wb'))\n",
    "pickle.dump(le_cholest, open('le_cholest.pkl', 'wb'))\n",
    "pickle.dump(ohe_cholest, open('ohe_cholest.pkl', 'wb'))"
   ]
  }
 ],
 "metadata": {
  "colab": {
   "authorship_tag": "ABX9TyPPsqXwbv7W0KeGGwgbkb2A",
   "collapsed_sections": [],
   "name": "1_randomforest.ipynb",
   "provenance": [],
   "toc_visible": true
  },
  "kernelspec": {
   "display_name": "Python 3",
   "language": "python",
   "name": "python3"
  },
  "language_info": {
   "codemirror_mode": {
    "name": "ipython",
    "version": 3
   },
   "file_extension": ".py",
   "mimetype": "text/x-python",
   "name": "python",
   "nbconvert_exporter": "python",
   "pygments_lexer": "ipython3",
   "version": "3.7.4"
  }
 },
 "nbformat": 4,
 "nbformat_minor": 4
}
